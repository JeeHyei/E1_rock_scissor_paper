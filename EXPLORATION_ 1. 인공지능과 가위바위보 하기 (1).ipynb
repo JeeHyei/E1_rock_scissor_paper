{
 "cells": [
  {
   "cell_type": "markdown",
   "id": "complicated-brush",
   "metadata": {},
   "source": [
    "#  미니 프로젝트 : 가위 바위 보 분류기 만들기"
   ]
  },
  {
   "cell_type": "markdown",
   "id": "documentary-things",
   "metadata": {},
   "source": [
    "## 1. 데이터 만들기"
   ]
  },
  {
   "cell_type": "markdown",
   "id": "excellent-wagner",
   "metadata": {},
   "source": [
    "https://teachablemachine.withgoogle.com/ 가위, 바위, 보의 데이터를 만드는 곳"
   ]
  },
  {
   "cell_type": "code",
   "execution_count": 1,
   "id": "graduate-poker",
   "metadata": {},
   "outputs": [
    {
     "name": "stdout",
     "output_type": "stream",
     "text": [
      "total 196\r\n",
      "-rw-r--r-- 1 root root 35218 Jul 19 17:00 '가위바위보 new.ipynb'\r\n",
      "drwxr-xr-x 3 root root 53248 Jul 19 16:06  paper\r\n",
      "drwxr-xr-x 3 root root 45056 Jul 19 16:04  rock\r\n",
      "drwxr-xr-x 3 root root 61440 Jul 19 16:05  scissor\r\n",
      "drwxr-xr-x 2 root root  4096 Jul 19 08:56  test\r\n"
     ]
    }
   ],
   "source": [
    "#디렉토리 만들기(각 파일별)\n",
    "\n",
    "!mkdir -p ~/aiffel/rock_scissor_paper/scissor\n",
    "!mkdir -p ~/aiffel/rock_scissor_paper/rock\n",
    "!mkdir -p ~/aiffel/rock_scissor_paper/paper\n",
    "\n",
    "!ls -l ~/aiffel/rock_scissor_paper"
   ]
  },
  {
   "cell_type": "code",
   "execution_count": 2,
   "id": "administrative-coast",
   "metadata": {},
   "outputs": [
    {
     "name": "stdout",
     "output_type": "stream",
     "text": [
      "unzip:  cannot find or open rock.zip, rock.zip.zip or rock.zip.ZIP.\n",
      "unzip:  cannot find or open scissor.zip, scissor.zip.zip or scissor.zip.ZIP.\n",
      "unzip:  cannot find or open paper.zip, paper.zip.zip or paper.zip.ZIP.\n"
     ]
    }
   ],
   "source": [
    "# 원하는 디렉토리로 이동 =3\n",
    "! cd  ~/aiffel/rock_scissor_paper/rock\n",
    "\n",
    "# 압축 해제 명령어 : unzip <파일명>.zip\n",
    "! unzip rock.zip\n",
    "\n",
    "# 가위, 보에 대해서도 똑같이 실행!\n",
    "! cd  ~/aiffel/rock_scissor_paper/scissor\n",
    "! unzip scissor.zip\n",
    "\n",
    "! cd  ~/aiffel/rock_scissor_paper/paper\n",
    "! unzip paper.zip"
   ]
  },
  {
   "cell_type": "markdown",
   "id": "civilian-purchase",
   "metadata": {},
   "source": [
    "= unzip 할 때는 Cloud shell에서 진행!!"
   ]
  },
  {
   "cell_type": "markdown",
   "id": "hearing-vintage",
   "metadata": {},
   "source": [
    "### 1-1  각 파일별 이미지 사이즈 조절"
   ]
  },
  {
   "cell_type": "code",
   "execution_count": 4,
   "id": "theoretical-invasion",
   "metadata": {},
   "outputs": [
    {
     "name": "stdout",
     "output_type": "stream",
     "text": [
      "PIL 라이브러리 import 완료!\n"
     ]
    }
   ],
   "source": [
    "#28x28로 만들기 위해서,PIL라이브러리를 사용하기 위해 파일 불러 오기\n",
    "from PIL import Image\n",
    "import os, glob\n",
    "\n",
    "print(\"PIL 라이브러리 import 완료!\")"
   ]
  },
  {
   "cell_type": "code",
   "execution_count": 5,
   "id": "turkish-stuart",
   "metadata": {},
   "outputs": [
    {
     "name": "stdout",
     "output_type": "stream",
     "text": [
      "1528  images to be resized.\n",
      "1528  images resized.\n",
      "가위 이미지 resize 완료!\n"
     ]
    }
   ],
   "source": [
    "# 이미지 사이즈 조절 함수 \n",
    "def resize_images(img_path):\n",
    "    images=glob.glob(img_path + \"/*.jpg\")  \n",
    "    print(len(images), \" images to be resized.\")\n",
    "\n",
    "# 파일마다 모두 28x28 사이즈로 바꾸어 저장.\n",
    "    target_size=(28,28)\n",
    "    for img in images:\n",
    "        old_img=Image.open(img)\n",
    "        new_img=old_img.resize(target_size,Image.ANTIALIAS)\n",
    "        new_img.save(img, \"JPEG\")\n",
    "        \n",
    "    print(len(images), \" images resized.\")\n",
    "\n",
    "# 가위 이미지가 저장된 디렉토리 아래의 모든 jpg 파일을 불러오기\n",
    "image_dir_path = os.getenv(\"HOME\") + \"/aiffel/rock_scissor_paper/scissor\"\n",
    "resize_images(image_dir_path)\n",
    "\n",
    "print(\"가위 이미지 resize 완료!\")"
   ]
  },
  {
   "cell_type": "code",
   "execution_count": 6,
   "id": "alone-contrast",
   "metadata": {},
   "outputs": [
    {
     "name": "stdout",
     "output_type": "stream",
     "text": [
      "1534  images to be resized.\n",
      "1534  images resized.\n",
      "바위 이미지 resize 완료!\n"
     ]
    }
   ],
   "source": [
    "import os\n",
    "\n",
    "# 이미지 사이즈 조절 함수\n",
    "def resize_images(img_path):\n",
    "    images=glob.glob(img_path + \"/*.jpg\")  \n",
    "    \n",
    "    print(len(images), \" images to be resized.\")\n",
    "\n",
    "# 파일마다 모두 28x28 사이즈로 바꾸어 저장\n",
    "    target_size=(28,28)\n",
    "    for img in images:\n",
    "        old_img=Image.open(img)\n",
    "        new_img=old_img.resize(target_size,Image.ANTIALIAS)\n",
    "        new_img.save(img, \"JPEG\")\n",
    "    \n",
    "    print(len(images), \" images resized.\")\n",
    "\n",
    "# 바위 이미지가 저장된 디렉토리 아래의 모든 jpg 파일을 불러오기\n",
    "image_dir_path = os.getenv(\"HOME\") + \"/aiffel/rock_scissor_paper/rock\"\n",
    "resize_images(image_dir_path)\n",
    "\n",
    "print(\"바위 이미지 resize 완료!\")"
   ]
  },
  {
   "cell_type": "code",
   "execution_count": 7,
   "id": "third-february",
   "metadata": {},
   "outputs": [
    {
     "name": "stdout",
     "output_type": "stream",
     "text": [
      "1527  images to be resized.\n",
      "1527  images resized.\n",
      "보 이미지 resize 완료!\n"
     ]
    }
   ],
   "source": [
    "import os\n",
    "\n",
    "# 이미지 사이즈 조절 함수\n",
    "def resize_images(img_path):\n",
    "    images=glob.glob(img_path + \"/*.jpg\")  \n",
    "    \n",
    "    print(len(images), \" images to be resized.\")\n",
    "\n",
    "# 파일마다 모두 28x28 사이즈로 바꾸어 저장합니다.\n",
    "    target_size=(28,28)\n",
    "    for img in images:\n",
    "        old_img=Image.open(img)\n",
    "        new_img=old_img.resize(target_size,Image.ANTIALIAS)\n",
    "        new_img.save(img, \"JPEG\")\n",
    "    \n",
    "    print(len(images), \" images resized.\")\n",
    "\n",
    "# 보 이미지가 저장된 디렉토리 아래의 모든 jpg 파일을 불러오기\n",
    "image_dir_path = os.getenv(\"HOME\") + \"/aiffel/rock_scissor_paper/paper\"\n",
    "resize_images(image_dir_path)\n",
    "\n",
    "print(\"보 이미지 resize 완료!\")"
   ]
  },
  {
   "cell_type": "markdown",
   "id": "terminal-newcastle",
   "metadata": {},
   "source": [
    "### 1-2  train data  불러오고 출력"
   ]
  },
  {
   "cell_type": "code",
   "execution_count": 8,
   "id": "registered-aggregate",
   "metadata": {},
   "outputs": [
    {
     "name": "stdout",
     "output_type": "stream",
     "text": [
      "학습데이터(x_train)의 이미지 개수는 4589 입니다.\n",
      "x_train shape: (4589, 28, 28, 3)\n",
      "y_train shape: (4589,)\n"
     ]
    }
   ],
   "source": [
    "import numpy as np\n",
    "\n",
    "def load_data(img_path, number_of_data=4589):  # 가위바위보 이미지 개수 총합에 주의하세요.\n",
    "    # 가위 : 0, 바위 : 1, 보 : 2\n",
    "    img_size=28\n",
    "    color=3\n",
    "    #이미지 데이터와 라벨(가위 : 0, 바위 : 1, 보 : 2) 데이터를 담을 행렬(matrix) 영역을 생성합니다.\n",
    "    imgs=np.zeros(number_of_data*img_size*img_size*color,dtype=np.int32).reshape(number_of_data,img_size,img_size,color)\n",
    "    labels=np.zeros(number_of_data,dtype=np.int32)\n",
    "\n",
    "    idx=0\n",
    "    for file in glob.iglob(img_path+'/scissor/*.jpg'):\n",
    "        img = np.array(Image.open(file),dtype=np.int32)\n",
    "        imgs[idx,:,:,:]=img    # 데이터 영역에 이미지 행렬을 복사\n",
    "        labels[idx]=0   # 가위 : 0\n",
    "        idx=idx+1\n",
    "\n",
    "    for file in glob.iglob(img_path+'/rock/*.jpg'):\n",
    "        img = np.array(Image.open(file),dtype=np.int32)\n",
    "        imgs[idx,:,:,:]=img    # 데이터 영역에 이미지 행렬을 복사\n",
    "        labels[idx]=1   # 바위 : 1\n",
    "        idx=idx+1  \n",
    "    \n",
    "    for file in glob.iglob(img_path+'/paper/*.jpg'):\n",
    "        img = np.array(Image.open(file),dtype=np.int32)\n",
    "        imgs[idx,:,:,:]=img    # 데이터 영역에 이미지 행렬을 복사\n",
    "        labels[idx]=2   # 보 : 2\n",
    "        idx=idx+1\n",
    "        \n",
    "    print(\"학습데이터(x_train)의 이미지 개수는\", idx,\"입니다.\")\n",
    "    return imgs, labels\n",
    "\n",
    "image_dir_path = os.getenv(\"HOME\") + \"/aiffel/rock_scissor_paper\"\n",
    "(x_train, y_train)=load_data(image_dir_path)\n",
    "x_train_norm = x_train/255.0   # 입력은 0~1 사이의 값으로 정규화\n",
    "\n",
    "print(\"x_train shape: {}\".format(x_train.shape))\n",
    "print(\"y_train shape: {}\".format(y_train.shape))"
   ]
  },
  {
   "cell_type": "code",
   "execution_count": 9,
   "id": "toxic-blond",
   "metadata": {
    "scrolled": true
   },
   "outputs": [
    {
     "name": "stdout",
     "output_type": "stream",
     "text": [
      "라벨:  0\n"
     ]
    },
    {
     "data": {
      "image/png": "[encoded data removed]",
      "text/plain": [
       "<Figure size 432x288 with 1 Axes>"
      ]
     },
     "metadata": {
      "needs_background": "light"
     },
     "output_type": "display_data"
    }
   ],
   "source": [
    "import matplotlib.pyplot as plt\n",
    "plt.imshow(x_train[1])\n",
    "print('라벨: ', y_train[1])"
   ]
  },
  {
   "cell_type": "markdown",
   "id": "cathedral-quarterly",
   "metadata": {},
   "source": [
    "## 2. 딥러닝 네트워크 설계하기"
   ]
  },
  {
   "cell_type": "code",
   "execution_count": 10,
   "id": "ahead-dealing",
   "metadata": {},
   "outputs": [
    {
     "name": "stdout",
     "output_type": "stream",
     "text": [
      "Model: \"sequential\"\n",
      "_________________________________________________________________\n",
      "Layer (type)                 Output Shape              Param #   \n",
      "=================================================================\n",
      "conv2d (Conv2D)              (None, 26, 26, 60)        1680      \n",
      "_________________________________________________________________\n",
      "max_pooling2d (MaxPooling2D) (None, 13, 13, 60)        0         \n",
      "_________________________________________________________________\n",
      "conv2d_1 (Conv2D)            (None, 11, 11, 120)       64920     \n",
      "_________________________________________________________________\n",
      "max_pooling2d_1 (MaxPooling2 (None, 5, 5, 120)         0         \n",
      "_________________________________________________________________\n",
      "flatten (Flatten)            (None, 3000)              0         \n",
      "_________________________________________________________________\n",
      "dense (Dense)                (None, 120)               360120    \n",
      "_________________________________________________________________\n",
      "dense_1 (Dense)              (None, 3)                 363       \n",
      "=================================================================\n",
      "Total params: 427,083\n",
      "Trainable params: 427,083\n",
      "Non-trainable params: 0\n",
      "_________________________________________________________________\n"
     ]
    }
   ],
   "source": [
    "import tensorflow as tf\n",
    "from tensorflow import keras\n",
    "import numpy as np\n",
    "\n",
    "# model을 직접 만들어 보세요.\n",
    "# Hint! model의 입력/출력부에 특히 유의해 주세요. 가위바위보 데이터셋은 MNIST 데이터셋과 어떤 점이 달라졌나요?\n",
    "model=keras.models.Sequential()\n",
    "model.add(keras.layers.Conv2D(60, (3,3), activation='relu', input_shape=(28,28,3)))\n",
    "model.add(keras.layers.MaxPool2D(2,2))\n",
    "model.add(keras.layers.Conv2D(120, (3,3), activation='relu'))\n",
    "model.add(keras.layers.MaxPooling2D((2,2)))\n",
    "model.add(keras.layers.Flatten())\n",
    "model.add(keras.layers.Dense(120, activation='relu'))\n",
    "model.add(keras.layers.Dense(3, activation='softmax'))\n",
    "\n",
    "model.summary()"
   ]
  },
  {
   "cell_type": "markdown",
   "id": "normal-litigation",
   "metadata": {},
   "source": [
    "## 3.딥러닝 네트워크 학습시키기"
   ]
  },
  {
   "cell_type": "code",
   "execution_count": 13,
   "id": "western-neighborhood",
   "metadata": {},
   "outputs": [
    {
     "name": "stdout",
     "output_type": "stream",
     "text": [
      "Epoch 1/10\n",
      "144/144 [==============================] - 1s 6ms/step - loss: 0.1494 - accuracy: 0.9542\n",
      "Epoch 2/10\n",
      "144/144 [==============================] - 1s 5ms/step - loss: 0.0176 - accuracy: 0.9940\n",
      "Epoch 3/10\n",
      "144/144 [==============================] - 1s 5ms/step - loss: 0.2041 - accuracy: 0.9307\n",
      "Epoch 4/10\n",
      "144/144 [==============================] - 1s 5ms/step - loss: 0.0312 - accuracy: 0.9893\n",
      "Epoch 5/10\n",
      "144/144 [==============================] - 1s 5ms/step - loss: 0.0162 - accuracy: 0.9945\n",
      "Epoch 6/10\n",
      "144/144 [==============================] - 1s 5ms/step - loss: 0.0368 - accuracy: 0.9865\n",
      "Epoch 7/10\n",
      "144/144 [==============================] - 1s 5ms/step - loss: 0.0434 - accuracy: 0.9835\n",
      "Epoch 8/10\n",
      "144/144 [==============================] - 1s 5ms/step - loss: 0.1742 - accuracy: 0.9611\n",
      "Epoch 9/10\n",
      "144/144 [==============================] - 1s 5ms/step - loss: 0.0356 - accuracy: 0.9905\n",
      "Epoch 10/10\n",
      "144/144 [==============================] - 1s 5ms/step - loss: 0.0042 - accuracy: 0.9977\n"
     ]
    },
    {
     "data": {
      "text/plain": [
       "<tensorflow.python.keras.callbacks.History at 0x7fa462f37090>"
      ]
     },
     "execution_count": 13,
     "metadata": {},
     "output_type": "execute_result"
    }
   ],
   "source": [
    "# model을 학습시키는 코드를 직접 작성해 보세요.\n",
    "# Hint! model.compile()과 model.fit()을 사용해 봅시다.\n",
    "model.compile(optimizer='adam',\n",
    "             loss='sparse_categorical_crossentropy',\n",
    "             metrics=['accuracy'])\n",
    "\n",
    "# 모델 훈련\n",
    "model.fit(x_train, y_train, epochs=10)"
   ]
  },
  {
   "cell_type": "markdown",
   "id": "functional-arbitration",
   "metadata": {},
   "source": [
    "## 테스트 진행"
   ]
  },
  {
   "cell_type": "code",
   "execution_count": 12,
   "id": "focal-relay",
   "metadata": {},
   "outputs": [],
   "source": [
    "! mkdir -p ~/aiffel/rock_scissor_paper/test"
   ]
  },
  {
   "cell_type": "code",
   "execution_count": 14,
   "id": "attached-drill",
   "metadata": {},
   "outputs": [
    {
     "name": "stdout",
     "output_type": "stream",
     "text": [
      "학습데이터(x_train)의 이미지 개수는 7889 입니다.\n",
      "x_test shape: (7889, 28, 28, 3)\n",
      "y_test shape: (7889,)\n",
      "라벨:  0\n"
     ]
    },
    {
     "data": {
      "image/png": "[encoded data removed]",
      "text/plain": [
       "<Figure size 432x288 with 1 Axes>"
      ]
     },
     "metadata": {
      "needs_background": "light"
     },
     "output_type": "display_data"
    }
   ],
   "source": [
    "# x_test, y_test를 만드는 방법은 x_train, y_train을 만드는 방법과 아주 유사합니다.\n",
    "\n",
    "image_dir_path = os.getenv(\"HOME\") + \"/aiffel/rock_scissor_paper_test\"\n",
    "(x_test, y_test)=load_data(image_dir_path, 7889)  # 가위바위보 이미지 개수 총합에 주의\n",
    "x_test_norm = x_test/255.0   # 입력은 0~1 사이의 값으로 정규화\n",
    "\n",
    "# 데이터 shape 확인\n",
    "print(\"x_test shape: {}\".format(x_test.shape))\n",
    "print(\"y_test shape: {}\".format(y_test.shape))\n",
    "\n",
    "# 데이터 1개 출력해서 확인\n",
    "plt.imshow(x_test[1])\n",
    "print('라벨: ', y_test[1])"
   ]
  },
  {
   "cell_type": "code",
   "execution_count": 18,
   "id": "infinite-brake",
   "metadata": {},
   "outputs": [
    {
     "name": "stdout",
     "output_type": "stream",
     "text": [
      "247/247 - 1s - loss: 2.1775 - accuracy: 0.7816\n",
      "test_loss: 2.177480936050415 \n",
      "test_accuracy: 0.7815946340560913\n"
     ]
    }
   ],
   "source": [
    "# model을 학습시키는 코드를 직접 작성해 보세요.\n",
    "# Hint! model.evaluate()을 사용해 봅시다.\n",
    "\n",
    "test_loss, test_accuracy = model.evaluate(x_test, y_test, verbose=2)\n",
    "print(\"test_loss: {} \".format(test_loss))\n",
    "print(\"test_accuracy: {}\".format(test_accuracy))"
   ]
  },
  {
   "cell_type": "markdown",
   "id": "broken-avenue",
   "metadata": {},
   "source": [
    "## 프로젝트 정리 및 배우게 된것\n",
    "\n",
    "### 1. 데이터 만드는 과정\n",
    "\n",
    "1. 파일을 불러오는 과정에서 폴더 이름이 같아야 된다는 점!\n",
    "2. train 파일과 test파일을 쓰기 위해서는 unzip해주기(zip파일의 경우)\n",
    "3. 데이터를 불러오고 + 이미지 크지 줄이기\n",
    " - PIL라이브러리 불러온 후 resize() 함수를 이용해서 사진 크기 줄어 주기\n",
    "4. 숫자 손글씨 인식기할 때 nmist.load_data()함수를 이용해서 데이터를 읽었었다. 가위바위보에는 load_data()함수를 사용\n",
    "* train data,test data불러 올때 쓰임\n",
    "\n",
    "### 딥러닝 네트워크 설계 및 훈련\n",
    "\n",
    "model=keras.models.Sequential()\n",
    "model.add(keras.layers.Conv2D(60, (3,3), activation='relu', input_shape=(28,28,3)))\n",
    "model.add(keras.layers.MaxPool2D(2,2))\n",
    "model.add(keras.layers.Conv2D(120, (3,3), activation='relu'))\n",
    "model.add(keras.layers.MaxPooling2D((2,2)))\n",
    "model.add(keras.layers.Flatten())\n",
    "model.add(keras.layers.Dense(120, activation='relu'))\n",
    "model.add(keras.layers.Dense(3, activation='softmax'))\n",
    "\n",
    "\n",
    "1. Conv2D - 이미지 특징의 수 - 60개의 이미지 특징, 120개의 이미지 고려(이미지가 복잡하고 디테일이 많을 경우 특징의 수를 늘려 보는 것도 고려)\n",
    "2. Dense레이어의 첫번째는 뉴련으 숫자 - 값이 클수록 보다 복잡한 분류기를 만들 수 있음(ex- 만약 알파벳의 대문자와 소문자를 구분할 때, 대문자 26개, 소문자 26개 총 52개의 클래스로 분류해야한다. 그래서 32보다는 큰 64 또는 128 등을 고려) \n",
    "3. 마지막, Dense 레이어의 뉴런 숫자는 분류해내야하는 클래스 수로 지정 (숫자에서는 10개, 알파벳에서는 52로 지정)\n",
    "4.input_shape=(28,28,3) ->28은 크기, 3은 RGB (만약 흑백인 경우는 1로 설정)\n",
    "\n",
    "### 모델 성능 테스트\n",
    "\n",
    "1. 첫번째는 train data를 파일별(가위, 바위, 보)로 303장으로 학습을 시켜고 test data 2400장으로 테스트를 한 결과 0.4정도가 나왔다.  \n",
    "2. 두번째는 보완을 하기 위해서 train data 4589, test 7889장으로 테스트를 한결과 0,78이라는 결과를 가져올 수 있었다.\n",
    "\n",
    "--- 테스트를 코드를 진행하면서 ---\n",
    "* 모델 테스트를 할 경우에도 파일을 만들어 따로 파일을 넣어주고 unzip 해주고, 사이즈를 다시 줄여줘야 된다는 점!"
   ]
  }
 ],
 "metadata": {
  "kernelspec": {
   "display_name": "Python 3",
   "language": "python",
   "name": "python3"
  },
  "language_info": {
   "codemirror_mode": {
    "name": "ipython",
    "version": 3
   },
   "file_extension": ".py",
   "mimetype": "text/x-python",
   "name": "python",
   "nbconvert_exporter": "python",
   "pygments_lexer": "ipython3",
   "version": "3.7.9"
  }
 },
 "nbformat": 4,
 "nbformat_minor": 5
}
