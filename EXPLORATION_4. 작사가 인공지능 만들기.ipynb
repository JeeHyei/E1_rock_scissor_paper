{
 "cells": [
  {
   "cell_type": "markdown",
   "id": "civil-irrigation",
   "metadata": {},
   "source": [
    "# EXPLORATION_4. 작사가 인공지능 만들기\n",
    "## 프로젝트: 멋진 작사가 만들기\n",
    "\n",
    "\n",
    "### Step 1. 데이터 다운로드\n",
    "이미 실습(1) 데이터 다듬기에서 Cloud shell에 심볼릭 링크로 ~/aiffel/lyricist/data를 생성했으므로 넘어 간다.\n",
    "\n",
    "### Step 2. 데이터 읽어오기\n",
    "- glob모듈을 사용하면 파일을 읽어오는 작업을 하기가 아주 용이하다.\n",
    "- glob를 활용해서 txt파일을 읽어온 후, raw_corous 리스트에 문장 단위로 저장!"
   ]
  },
  {
   "cell_type": "code",
   "execution_count": 2,
   "id": "exact-contract",
   "metadata": {},
   "outputs": [
    {
     "name": "stdout",
     "output_type": "stream",
     "text": [
      "ln: failed to create symbolic link '/aiffel/aiffel/lyricist/data/data': Read-only file system\r\n"
     ]
    }
   ],
   "source": [
    "! mkdir -p ~/aiffel/lyricist/models\n",
    "! ln -s ~/data ~/aiffel/lyricist/data"
   ]
  },
  {
   "cell_type": "code",
   "execution_count": 3,
   "id": "instant-responsibility",
   "metadata": {},
   "outputs": [
    {
     "name": "stdout",
     "output_type": "stream",
     "text": [
      "txt_file_path에 속한 총 파일의 개수는 49 입니다.\n",
      "\n",
      "데이터 크기: 187088\n",
      "\n",
      "Examples:\n",
      " ['At first I was afraid', 'I was petrified', 'I kept thinking I could never live without you']\n"
     ]
    }
   ],
   "source": [
    "import glob\n",
    "import os\n",
    "\n",
    "txt_file_path = os.getenv('HOME')+'/aiffel/lyricist/data/lyrics/*'\n",
    "\n",
    "txt_list = glob.glob(txt_file_path)\n",
    "print(f'txt_file_path에 속한 총 파일의 개수는 {len(txt_list)} 입니다.\\n')\n",
    "raw_corpus = []\n",
    "\n",
    "for txt_file in txt_list:\n",
    "    with open(txt_file, \"r\") as f:\n",
    "        raw = f.read().splitlines()\n",
    "        raw_corpus.extend(raw)\n",
    "\n",
    "print(\"데이터 크기:\", len(raw_corpus))\n",
    "print(\"\\nExamples:\\n\", raw_corpus[:3])\n"
   ]
  },
  {
   "cell_type": "markdown",
   "id": "indie-halloween",
   "metadata": {},
   "source": [
    "### Step 3. 데이터 정제\n",
    "앞서 배운 테크닉들을 활용해 문장 생성에 적합한 모양새로 데이터를 정제하기!!\n",
    "- preprocess_sentence() 함수이용\n",
    "- 추가로 지나치게 긴 문장은 다른 데이터들이 과도한 Padding을 갖게 하므로 제거한다.\n",
    "- 너무 긴 문장은 노래 가사 작사하기에 어울리지 않을 수도 있다. 그렇기 때문에 이번에는 문장을 토큰화 했을 때 토근의 개수가 15개를 넘어가는 문장을 학습 데이터에서 제외하기\n"
   ]
  },
  {
   "cell_type": "code",
   "execution_count": 5,
   "id": "working-match",
   "metadata": {},
   "outputs": [
    {
     "name": "stdout",
     "output_type": "stream",
     "text": [
      "At first I was afraid\n",
      "I was petrified\n",
      "I kept thinking I could never live without you\n",
      "By my side But then I spent so many nights\n"
     ]
    }
   ],
   "source": [
    "\n",
    "for idx, sentence in enumerate(raw_corpus):\n",
    "    if len(sentence) == 0: continue   #- 길이가 0인 문장 건너뛰기\n",
    "    if sentence[-1] == \":\": continue  #- 문장의 끝이 : 인 문장 건너뛰기\n",
    "\n",
    "    if idx > 3: break   #- 우선 문장 15개 확인\n",
    "        \n",
    "    print(sentence)"
   ]
  },
  {
   "cell_type": "code",
   "execution_count": 6,
   "id": "genuine-yahoo",
   "metadata": {},
   "outputs": [
    {
     "name": "stdout",
     "output_type": "stream",
     "text": [
      "<start> this is sample sentence . <end>\n"
     ]
    }
   ],
   "source": [
    "import re\n",
    "\n",
    "# 입력된 문장을\n",
    "#     1. 소문자로 바꾸고, 양쪽 공백을 지웁니다\n",
    "#     2. 특수문자 양쪽에 공백을 넣고\n",
    "#     3. 여러개의 공백은 하나의 공백으로 바꿉니다\n",
    "#     4. a-zA-Z?.!,¿가 아닌 모든 문자를 하나의 공백으로 바꿉니다\n",
    "#     5. 다시 양쪽 공백을 지웁니다\n",
    "#     6. 문장 시작에는 <start>, 끝에는 <end>를 추가합니다\n",
    "# 이 순서로 처리해주면 문제가 되는 상황을 방지할 수 있겠네요!\n",
    "def preprocess_sentence(sentence):\n",
    "    sentence = sentence.lower().strip() # 1\n",
    "    sentence = re.sub(r\"([?.!,¿])\", r\" \\1 \", sentence) # 2\n",
    "    sentence = re.sub(r'[\" \"]+', \" \", sentence) # 3\n",
    "    sentence = re.sub(r\"[^a-zA-Z?.!,¿]+\", \" \", sentence) # 4\n",
    "    sentence = sentence.strip() # 5\n",
    "    sentence = '<start> ' + sentence + ' <end>' # 6\n",
    "    return sentence\n",
    "\n",
    "# 이 문장이 어떻게 필터링되는지 확인해 보세요.\n",
    "print(preprocess_sentence(\"This @_is ;;;sample        sentence.\"))"
   ]
  },
  {
   "cell_type": "code",
   "execution_count": 8,
   "id": "bound-politics",
   "metadata": {},
   "outputs": [
    {
     "data": {
      "text/plain": [
       "['<start> at first i was afraid <end>',\n",
       " '<start> i was petrified <end>',\n",
       " '<start> i kept thinking i could never live without you <end>']"
      ]
     },
     "execution_count": 8,
     "metadata": {},
     "output_type": "execute_result"
    }
   ],
   "source": [
    "# 여기에 정제된 문장을 모을 겁니다.\n",
    "corpus = []\n",
    "\n",
    "for sentence in raw_corpus:\n",
    "    #우리가 원하지 않는 문장은 건너뜁니다.\n",
    "    if len(sentence) == 0: continue\n",
    "    if sentence[-1] == \":\": continue\n",
    "        \n",
    "    #정제를 하고 담아주세요\n",
    "    preprocessed_sentence = preprocess_sentence(sentence)\n",
    "    corpus.append(preprocessed_sentence)\n",
    "    \n",
    "#정제된 결과를 10개만 확인해보죠\n",
    "corpus[:3]\n",
    "        "
   ]
  },
  {
   "cell_type": "markdown",
   "id": "remarkable-corrections",
   "metadata": {},
   "source": [
    "**1)데이터 토큰화**\n",
    "학습을 하기 위해서는 배우고자 하는 언어를 모국어로 표현을 해줘야 공부를 할 수 있다. 만약 인공지능이 학습을 하려면 언어를 숫자로 바꿔줘야 합니다. \n",
    "즉 가르칠 언어(데이터)를 숫자로 변환을 해서 인공지능에게 줄 것이다. \n",
    "\n",
    "tf.keras.preprocessing.text.Tokenizer 패키지는 정제된 데이터를 토큰화하고, 단어 사전(vocabulary 또는 dictionary라고 칭함)을 만들어주며, 데이터를 숫자로 변환까지 한 방에 해준다. \n",
    "이 과정을 벡터화(vectorize)라 하며, 숫자로 변환된 데이터를 텐서(tensor)라고 칭한다.  우리가 사용하는 텐서플로우로 만든 모델의 입출력 데이터는 실제로는 모두 이런 텐서로 변환되어 처리되는 것이다."
   ]
  },
  {
   "cell_type": "code",
   "execution_count": 19,
   "id": "trained-tulsa",
   "metadata": {
    "scrolled": false
   },
   "outputs": [
    {
     "name": "stdout",
     "output_type": "stream",
     "text": [
      "[[   2   71  241 ...    0    0    0]\n",
      " [   2    5   57 ...    0    0    0]\n",
      " [   2    5 1094 ...    0    0    0]\n",
      " ...\n",
      " [   2   48   16 ...    0    0    0]\n",
      " [  25    9 2855 ...  264   19    3]\n",
      " [   2    6  180 ...    0    0    0]] <keras_preprocessing.text.Tokenizer object at 0x7fe0fe52f390>\n"
     ]
    }
   ],
   "source": [
    "import tensorflow as tf\n",
    "import numpy as np\n",
    "\n",
    "# 토큰화 할 때 텐서플로우의 Tokenizer와 pad_sequences를 사용합니다\n",
    "# 더 잘 알기 위해 아래 문서들을 참고하면 좋습니다\n",
    "# https://www.tensorflow.org/api_docs/python/tf/keras/preprocessing/text/Tokenizer\n",
    "# https://www.tensorflow.org/api_docs/python/tf/keras/preprocessing/sequence/pad_sequences\n",
    "def tokenize(corpus):\n",
    "    # 12000단어를 기억할 수 있는 tokenizer를 만들겁니다\n",
    "    # 우리는 이미 문장을 정제했으니 filters가 필요없어요\n",
    "    # 12000단어에 포함되지 못한 단어는 '<unk>'로 바꿀거에요\n",
    "    tokenizer = tf.keras.preprocessing.text.Tokenizer(\n",
    "        num_words=12000, \n",
    "        filters=' ',\n",
    "        oov_token=\"<unk>\"\n",
    "    )\n",
    "    # corpus를 이용해 tokenizer 내부의 단어장을 완성합니다\n",
    "    tokenizer.fit_on_texts(corpus)\n",
    "    # 준비한 tokenizer를 이용해 corpus를 Tensor로 변환합니다\n",
    "    tensor = tokenizer.texts_to_sequences(corpus)\n",
    "    \n",
    "    # 입력 데이터의 시퀀스 길이를 일정하게 맞춰줍니다\n",
    "    # 만약 시퀀스가 짧다면 문장 뒤에 패딩을 붙여 길이를 맞춰줍니다.\n",
    "    # 문장 앞에 패딩을 붙여 길이를 맞추고 싶다면 padding='pre'를 사용합니다\n",
    "    tensor = tf.keras.preprocessing.sequence.pad_sequences(tensor,maxlen=15, padding='post')  \n",
    "    \n",
    "    print(tensor,tokenizer)\n",
    "    return tensor, tokenizer\n",
    "\n",
    "tensor, tokenizer = tokenize(corpus) "
   ]
  },
  {
   "cell_type": "code",
   "execution_count": 13,
   "id": "controlled-divorce",
   "metadata": {},
   "outputs": [
    {
     "name": "stdout",
     "output_type": "stream",
     "text": [
      "[[   2   71  241    5   57  664    3    0    0    0]\n",
      " [   2    5   57 6481    3    0    0    0    0    0]\n",
      " [   2    5 1094  534    5  104   79  205  258    7]]\n"
     ]
    }
   ],
   "source": [
    "print(tensor[:3, :10])\n",
    "# tokenizer에 구축된 단어 사전의 인덱스이다"
   ]
  },
  {
   "cell_type": "code",
   "execution_count": 20,
   "id": "electric-behavior",
   "metadata": {},
   "outputs": [
    {
     "name": "stdout",
     "output_type": "stream",
     "text": [
      "1 : <unk>\n",
      "2 : <start>\n",
      "3 : <end>\n",
      "4 : ,\n",
      "5 : i\n",
      "6 : the\n",
      "7 : you\n",
      "8 : and\n",
      "9 : a\n",
      "10 : to\n"
     ]
    }
   ],
   "source": [
    "#단어사전 구축된 것 확인하기\n",
    "for idx in tokenizer.index_word:\n",
    "    print(idx, \":\", tokenizer.index_word[idx])\n",
    "\n",
    "    if idx >= 10: break"
   ]
  },
  {
   "cell_type": "markdown",
   "id": "excellent-touch",
   "metadata": {},
   "source": [
    "위 결과 2번 인덱스가 <start>이고, 모든 행이 2로 시작하는 이유기도 하다."
   ]
  },
  {
   "cell_type": "code",
   "execution_count": 21,
   "id": "noble-indiana",
   "metadata": {
    "scrolled": true
   },
   "outputs": [
    {
     "name": "stdout",
     "output_type": "stream",
     "text": [
      "[  2  71 241   5  57 664   3   0   0   0   0   0   0   0]\n",
      "[ 71 241   5  57 664   3   0   0   0   0   0   0   0   0]\n"
     ]
    }
   ],
   "source": [
    "# tensor에서 마지막 토큰을 잘라내서 소스 문장을 생성합니다\n",
    "# 마지막 토큰은 <end>가 아니라 <pad>일 가능성이 높습니다.\n",
    "src_input = tensor[:, :-1]  \n",
    "# tensor에서 <start>를 잘라내서 타겟 문장을 생성합니다.\n",
    "tgt_input = tensor[:, 1:]    \n",
    "\n",
    "print(src_input[0])\n",
    "print(tgt_input[0])"
   ]
  },
  {
   "cell_type": "code",
   "execution_count": 22,
   "id": "constant-parade",
   "metadata": {},
   "outputs": [
    {
     "data": {
      "text/plain": [
       "<BatchDataset shapes: ((256, 14), (256, 14)), types: (tf.int32, tf.int32)>"
      ]
     },
     "execution_count": 22,
     "metadata": {},
     "output_type": "execute_result"
    }
   ],
   "source": [
    "BUFFER_SIZE = len(src_input)\n",
    "BATCH_SIZE = 256\n",
    "steps_per_epoch = len(src_input) // BATCH_SIZE\n",
    "\n",
    " \n",
    "VOCAB_SIZE = tokenizer.num_words + 1   \n",
    "\n",
    "# 준비한 데이터 소스로부터 데이터셋을 만듭니다\n",
    "# 데이터셋에 대해서는 아래 문서를 참고하세요\n",
    "# 자세히 알아둘수록 도움이 많이 되는 중요한 문서입니다\n",
    "# https://www.tensorflow.org/api_docs/python/tf/data/Dataset\n",
    "dataset = tf.data.Dataset.from_tensor_slices((src_input, tgt_input))\n",
    "dataset = dataset.shuffle(BUFFER_SIZE)\n",
    "dataset = dataset.batch(BATCH_SIZE, drop_remainder=True)\n",
    "dataset"
   ]
  },
  {
   "cell_type": "markdown",
   "id": "hundred-twins",
   "metadata": {},
   "source": [
    "### Step 4. 평가 데이터셋 분리\n",
    "tokenize() 함수로 데이터를 Tensor로 변환한 후, sklearn 모듈의 train_test_split() 함수를 사용해 훈련 데이터와 평가 데이터를 분리"
   ]
  },
  {
   "cell_type": "code",
   "execution_count": 24,
   "id": "wrong-memphis",
   "metadata": {},
   "outputs": [
    {
     "name": "stdout",
     "output_type": "stream",
     "text": [
      "Source Train: (140599, 14)\n",
      "Target Train: (140599, 14)\n"
     ]
    }
   ],
   "source": [
    "from sklearn.model_selection import train_test_split\n",
    "\n",
    "enc_train, enc_val, dec_train, dec_val = train_test_split(src_input, tgt_input, test_size=0.2)\n",
    "\n",
    "print(\"Source Train:\", enc_train.shape)\n",
    "print(\"Target Train:\", dec_train.shape)"
   ]
  },
  {
   "cell_type": "markdown",
   "id": "hawaiian-value",
   "metadata": {},
   "source": [
    "### Step 5. 인공지능 만들기\n",
    "모델의 Embedding Size와 Hidden Size를 조절하며 10 Epoch 안에 val_loss 값을 2.2 수준으로 줄일 수 있는 모델을 설계하기!"
   ]
  },
  {
   "cell_type": "code",
   "execution_count": 25,
   "id": "quick-concentrate",
   "metadata": {},
   "outputs": [],
   "source": [
    "class TextGenerator(tf.keras.Model):\n",
    "    def __init__(self, vocab_size, embedding_size, hidden_size):\n",
    "        super().__init__()\n",
    "        \n",
    "        self.embedding = tf.keras.layers.Embedding(vocab_size, embedding_size)\n",
    "        self.rnn_1 = tf.keras.layers.LSTM(hidden_size, return_sequences=True)\n",
    "        self.rnn_2 = tf.keras.layers.LSTM(hidden_size, return_sequences=True)\n",
    "        self.linear = tf.keras.layers.Dense(vocab_size)\n",
    "        \n",
    "    def call(self, x):\n",
    "        out = self.embedding(x)\n",
    "        out = self.rnn_1(out)\n",
    "        out = self.rnn_2(out)\n",
    "        out = self.linear(out)\n",
    "        \n",
    "        return out\n",
    "    \n",
    "embedding_size = 256\n",
    "hidden_size = 1024\n",
    "model = TextGenerator(tokenizer.num_words + 1, embedding_size , hidden_size)"
   ]
  },
  {
   "cell_type": "code",
   "execution_count": 26,
   "id": "constitutional-bankruptcy",
   "metadata": {
    "scrolled": true
   },
   "outputs": [
    {
     "data": {
      "text/plain": [
       "<tf.Tensor: shape=(256, 14, 12001), dtype=float32, numpy=\n",
       "array([[[-1.58596929e-04, -8.80147491e-05, -1.60654145e-05, ...,\n",
       "          2.60705157e-04,  4.78841066e-05, -6.47653869e-05],\n",
       "        [-2.02247684e-04, -5.62581350e-04, -3.52502888e-04, ...,\n",
       "          3.76184267e-04,  2.45584553e-04, -7.16199211e-05],\n",
       "        [-1.16050542e-04, -8.35636398e-04, -4.47477069e-04, ...,\n",
       "          5.16100496e-04,  1.47693019e-04, -2.22521063e-04],\n",
       "        ...,\n",
       "        [ 3.82780272e-04, -8.45633273e-04,  5.16769593e-04, ...,\n",
       "         -4.64679528e-04,  1.22320768e-03, -4.32455097e-04],\n",
       "        [ 4.60603449e-04, -5.04891330e-04,  4.63683245e-04, ...,\n",
       "         -3.32539057e-04,  1.30711438e-03, -5.40989859e-04],\n",
       "        [ 5.05319797e-04, -8.58070707e-05,  4.84549470e-04, ...,\n",
       "         -1.39514756e-04,  1.25955604e-03, -7.04170961e-04]],\n",
       "\n",
       "       [[-1.58596929e-04, -8.80147491e-05, -1.60654145e-05, ...,\n",
       "          2.60705157e-04,  4.78841066e-05, -6.47653869e-05],\n",
       "        [-3.46314802e-04, -1.64598750e-04, -1.00426107e-04, ...,\n",
       "          2.81615212e-04,  1.25471648e-04, -1.54374284e-04],\n",
       "        [-4.58590250e-04, -1.48666324e-04, -1.40633463e-04, ...,\n",
       "          5.12511877e-04,  2.69561366e-04, -2.12488987e-04],\n",
       "        ...,\n",
       "        [-1.17528066e-03, -1.65124564e-03,  8.11659338e-05, ...,\n",
       "         -1.04412169e-03,  1.37001649e-03, -1.26219040e-03],\n",
       "        [-1.20267645e-03, -1.95802515e-03,  2.56694348e-05, ...,\n",
       "         -1.34412071e-03,  1.51382969e-03, -1.48030475e-03],\n",
       "        [-1.23539986e-03, -2.23878608e-03, -4.60492483e-05, ...,\n",
       "         -1.58741919e-03,  1.63906242e-03, -1.67768076e-03]],\n",
       "\n",
       "       [[-1.58596929e-04, -8.80147491e-05, -1.60654145e-05, ...,\n",
       "          2.60705157e-04,  4.78841066e-05, -6.47653869e-05],\n",
       "        [ 6.62623934e-05, -1.53765039e-04,  3.99429380e-04, ...,\n",
       "          2.99333071e-04,  4.65750956e-04,  1.30931003e-04],\n",
       "        [ 4.15420858e-04,  5.81888962e-05,  4.95380606e-04, ...,\n",
       "          2.96363607e-04,  8.27660551e-04,  2.34813255e-04],\n",
       "        ...,\n",
       "        [ 4.30872955e-04, -1.40932319e-03,  1.12699566e-03, ...,\n",
       "         -1.69125840e-03,  7.14751892e-04, -4.38021962e-04],\n",
       "        [ 1.30324610e-04, -1.76767202e-03,  9.53411276e-04, ...,\n",
       "         -1.97470165e-03,  9.06820293e-04, -7.50413397e-04],\n",
       "        [-1.49994637e-04, -2.09512073e-03,  7.66665326e-04, ...,\n",
       "         -2.19683605e-03,  1.10653520e-03, -1.03849010e-03]],\n",
       "\n",
       "       ...,\n",
       "\n",
       "       [[-1.58596929e-04, -8.80147491e-05, -1.60654145e-05, ...,\n",
       "          2.60705157e-04,  4.78841066e-05, -6.47653869e-05],\n",
       "        [ 3.09319730e-05, -2.47972639e-04, -3.71778287e-06, ...,\n",
       "          3.52275936e-04, -2.85428614e-05, -8.79974687e-05],\n",
       "        [ 1.19328499e-04, -7.10662716e-05, -7.14098178e-06, ...,\n",
       "          2.47495394e-04, -1.17623174e-04,  3.04003061e-06],\n",
       "        ...,\n",
       "        [-8.10145575e-04, -6.60093443e-04,  4.18822427e-04, ...,\n",
       "         -1.44018256e-03,  1.14854658e-03, -1.39483938e-03],\n",
       "        [-9.64373816e-04, -1.07052422e-03,  4.27407795e-04, ...,\n",
       "         -1.75262045e-03,  1.33935618e-03, -1.57060637e-03],\n",
       "        [-1.09374500e-03, -1.44767808e-03,  3.92380112e-04, ...,\n",
       "         -2.01028748e-03,  1.51067774e-03, -1.72786810e-03]],\n",
       "\n",
       "       [[-1.58596929e-04, -8.80147491e-05, -1.60654145e-05, ...,\n",
       "          2.60705157e-04,  4.78841066e-05, -6.47653869e-05],\n",
       "        [-2.25326992e-04, -3.02781118e-04, -2.70749064e-04, ...,\n",
       "          2.57347710e-04,  1.82445103e-04, -7.06512510e-05],\n",
       "        [-8.46408147e-05, -2.95397156e-04, -1.06517124e-04, ...,\n",
       "          1.12185066e-04,  1.31975539e-04, -3.35240125e-04],\n",
       "        ...,\n",
       "        [-6.56360411e-04, -2.04662350e-03,  7.35264039e-05, ...,\n",
       "         -2.09118100e-03,  9.53510054e-04, -9.67883621e-04],\n",
       "        [-7.53833971e-04, -2.30687158e-03,  8.48637574e-05, ...,\n",
       "         -2.26845592e-03,  1.22321863e-03, -1.19789003e-03],\n",
       "        [-8.53060395e-04, -2.52683251e-03,  6.31819275e-05, ...,\n",
       "         -2.39172950e-03,  1.45579677e-03, -1.41850323e-03]],\n",
       "\n",
       "       [[-1.58596929e-04, -8.80147491e-05, -1.60654145e-05, ...,\n",
       "          2.60705157e-04,  4.78841066e-05, -6.47653869e-05],\n",
       "        [ 4.86347017e-05, -2.57735286e-04,  5.93923723e-05, ...,\n",
       "          4.29108244e-04,  1.91229701e-04, -2.19316877e-04],\n",
       "        [-1.18117488e-04, -3.73724877e-04, -1.65588455e-04, ...,\n",
       "          4.22053185e-04,  3.43169784e-04, -4.53379180e-04],\n",
       "        ...,\n",
       "        [ 7.47746264e-04, -3.12376826e-04,  1.26039097e-03, ...,\n",
       "         -3.90630186e-04,  1.24359736e-03, -9.56715550e-04],\n",
       "        [ 7.92194332e-04, -2.53792066e-04,  1.51941692e-03, ...,\n",
       "         -1.85090204e-04,  1.19037926e-03, -7.40832649e-04],\n",
       "        [ 7.49072700e-04,  1.69778159e-05,  1.64710695e-03, ...,\n",
       "          9.37211735e-05,  1.10279862e-03, -7.46164238e-04]]],\n",
       "      dtype=float32)>"
      ]
     },
     "execution_count": 26,
     "metadata": {},
     "output_type": "execute_result"
    }
   ],
   "source": [
    "# 데이터셋에서 데이터 한 배치만 불러오는 방법입니다.\n",
    "# 지금은 동작 원리에 너무 빠져들지 마세요~\n",
    "for src_sample, tgt_sample in dataset.take(1): break\n",
    "\n",
    "# 한 배치만 불러온 데이터를 모델에 넣어봅니다\n",
    "model(src_sample)"
   ]
  },
  {
   "cell_type": "code",
   "execution_count": 27,
   "id": "removable-report",
   "metadata": {},
   "outputs": [
    {
     "name": "stdout",
     "output_type": "stream",
     "text": [
      "Model: \"text_generator\"\n",
      "_________________________________________________________________\n",
      "Layer (type)                 Output Shape              Param #   \n",
      "=================================================================\n",
      "embedding (Embedding)        multiple                  3072256   \n",
      "_________________________________________________________________\n",
      "lstm (LSTM)                  multiple                  5246976   \n",
      "_________________________________________________________________\n",
      "lstm_1 (LSTM)                multiple                  8392704   \n",
      "_________________________________________________________________\n",
      "dense (Dense)                multiple                  12301025  \n",
      "=================================================================\n",
      "Total params: 29,012,961\n",
      "Trainable params: 29,012,961\n",
      "Non-trainable params: 0\n",
      "_________________________________________________________________\n"
     ]
    }
   ],
   "source": [
    "model.summary()"
   ]
  },
  {
   "cell_type": "code",
   "execution_count": 28,
   "id": "enormous-board",
   "metadata": {
    "scrolled": true
   },
   "outputs": [
    {
     "name": "stdout",
     "output_type": "stream",
     "text": [
      "Epoch 1/10\n",
      "686/686 [==============================] - 220s 318ms/step - loss: 4.1125\n",
      "Epoch 2/10\n",
      "686/686 [==============================] - 221s 321ms/step - loss: 3.1707\n",
      "Epoch 3/10\n",
      "686/686 [==============================] - 222s 323ms/step - loss: 2.9605\n",
      "Epoch 4/10\n",
      "686/686 [==============================] - 223s 325ms/step - loss: 2.8050\n",
      "Epoch 5/10\n",
      "686/686 [==============================] - 224s 326ms/step - loss: 2.6674\n",
      "Epoch 6/10\n",
      "686/686 [==============================] - 223s 325ms/step - loss: 2.5523\n",
      "Epoch 7/10\n",
      "686/686 [==============================] - 223s 324ms/step - loss: 2.4393\n",
      "Epoch 8/10\n",
      "686/686 [==============================] - 223s 325ms/step - loss: 2.3405\n",
      "Epoch 9/10\n",
      "686/686 [==============================] - 223s 325ms/step - loss: 2.2441\n",
      "Epoch 10/10\n",
      "686/686 [==============================] - 222s 324ms/step - loss: 2.1504\n"
     ]
    },
    {
     "data": {
      "text/plain": [
       "<tensorflow.python.keras.callbacks.History at 0x7fe11990ae10>"
      ]
     },
     "execution_count": 28,
     "metadata": {},
     "output_type": "execute_result"
    }
   ],
   "source": [
    "# optimizer와 loss등은 차차 배웁니다\n",
    "# 혹시 미리 알고 싶다면 아래 문서를 참고하세요\n",
    "# https://www.tensorflow.org/api_docs/python/tf/keras/optimizers\n",
    "# https://www.tensorflow.org/api_docs/python/tf/keras/losses\n",
    "# 양이 상당히 많은 편이니 지금 보는 것은 추천하지 않습니다\n",
    "optimizer = tf.keras.optimizers.Adam()\n",
    "loss = tf.keras.losses.SparseCategoricalCrossentropy(\n",
    "    from_logits=True,\n",
    "    reduction='none'\n",
    ")\n",
    "\n",
    "model.compile(loss=loss, optimizer=optimizer)\n",
    "model.fit(dataset, epochs=10)\n",
    "\n",
    "#결론 : 오답률이 감소하고 있으니 학습이 잘 진행되고 있다 고 해석할 수 있다. "
   ]
  },
  {
   "cell_type": "markdown",
   "id": "spread-timeline",
   "metadata": {},
   "source": [
    "### Step 6.잘 만들어졌는지 평가하기\n",
    "#### 문자 Test"
   ]
  },
  {
   "cell_type": "code",
   "execution_count": 29,
   "id": "sapphire-twelve",
   "metadata": {},
   "outputs": [],
   "source": [
    "def generate_text(model, tokenizer, init_sentence=\"<start>\", max_len=20):\n",
    "    # 테스트를 위해서 입력받은 init_sentence도 텐서로 변환합니다\n",
    "    test_input = tokenizer.texts_to_sequences([init_sentence])\n",
    "    test_tensor = tf.convert_to_tensor(test_input, dtype=tf.int64)\n",
    "    end_token = tokenizer.word_index[\"<end>\"]\n",
    "\n",
    "    # 단어 하나씩 예측해 문장을 만듭니다\n",
    "    #    1. 입력받은 문장의 텐서를 입력합니다\n",
    "    #    2. 예측된 값 중 가장 높은 확률인 word index를 뽑아냅니다\n",
    "    #    3. 2에서 예측된 word index를 문장 뒤에 붙입니다\n",
    "    #    4. 모델이 <end>를 예측했거나, max_len에 도달했다면 문장 생성을 마칩니다\n",
    "    while True:\n",
    "        # 1\n",
    "        predict = model(test_tensor) \n",
    "        # 2\n",
    "        predict_word = tf.argmax(tf.nn.softmax(predict, axis=-1), axis=-1)[:, -1] \n",
    "        # 3 \n",
    "        test_tensor = tf.concat([test_tensor, tf.expand_dims(predict_word, axis=0)], axis=-1)\n",
    "        # 4\n",
    "        if predict_word.numpy()[0] == end_token: break\n",
    "        if test_tensor.shape[1] >= max_len: break\n",
    "\n",
    "    generated = \"\"\n",
    "    # tokenizer를 이용해 word index를 단어로 하나씩 변환합니다 \n",
    "    for word_index in test_tensor[0].numpy():\n",
    "        generated += tokenizer.index_word[word_index] + \" \"\n",
    "\n",
    "    return generated"
   ]
  },
  {
   "cell_type": "markdown",
   "id": "potential-rating",
   "metadata": {},
   "source": [
    "### Step 7.다양한 문장 Test"
   ]
  },
  {
   "cell_type": "code",
   "execution_count": 31,
   "id": "under-pleasure",
   "metadata": {},
   "outputs": [
    {
     "data": {
      "text/plain": [
       "'<start> i love you , i love you <end> '"
      ]
     },
     "execution_count": 31,
     "metadata": {},
     "output_type": "execute_result"
    }
   ],
   "source": [
    "generate_text(model, tokenizer, init_sentence=\"<start> i love\", max_len=20)"
   ]
  },
  {
   "cell_type": "code",
   "execution_count": 32,
   "id": "average-composer",
   "metadata": {},
   "outputs": [
    {
     "data": {
      "text/plain": [
       "'<start> she s got me runnin round and round <end> '"
      ]
     },
     "execution_count": 32,
     "metadata": {},
     "output_type": "execute_result"
    }
   ],
   "source": [
    "generate_text(model, tokenizer, init_sentence=\"<start> she\", max_len=20)"
   ]
  },
  {
   "cell_type": "code",
   "execution_count": 33,
   "id": "swiss-knitting",
   "metadata": {},
   "outputs": [
    {
     "data": {
      "text/plain": [
       "'<start> i was the one <end> '"
      ]
     },
     "execution_count": 33,
     "metadata": {},
     "output_type": "execute_result"
    }
   ],
   "source": [
    "generate_text(model, tokenizer, init_sentence=\"<start> i was\", max_len=20)"
   ]
  },
  {
   "cell_type": "code",
   "execution_count": 34,
   "id": "short-parade",
   "metadata": {},
   "outputs": [
    {
     "data": {
      "text/plain": [
       "'<start> want to be a girl with a <unk> <end> '"
      ]
     },
     "execution_count": 34,
     "metadata": {},
     "output_type": "execute_result"
    }
   ],
   "source": [
    "generate_text(model, tokenizer, init_sentence=\"<start> want\", max_len=20)"
   ]
  },
  {
   "cell_type": "code",
   "execution_count": 36,
   "id": "major-cornwall",
   "metadata": {},
   "outputs": [
    {
     "data": {
      "text/plain": [
       "'<start> first time i m not a girl <end> '"
      ]
     },
     "execution_count": 36,
     "metadata": {},
     "output_type": "execute_result"
    }
   ],
   "source": [
    "generate_text(model, tokenizer, init_sentence=\"<start> first\", max_len=20)"
   ]
  },
  {
   "cell_type": "code",
   "execution_count": 37,
   "id": "polish-insight",
   "metadata": {},
   "outputs": [
    {
     "data": {
      "text/plain": [
       "'<start> boy , you re my everything <end> '"
      ]
     },
     "execution_count": 37,
     "metadata": {},
     "output_type": "execute_result"
    }
   ],
   "source": [
    "generate_text(model, tokenizer, init_sentence=\"<start> boy\", max_len=20)"
   ]
  },
  {
   "cell_type": "code",
   "execution_count": 38,
   "id": "oriental-round",
   "metadata": {},
   "outputs": [
    {
     "data": {
      "text/plain": [
       "'<start> love me , love me , love me , love me <end> '"
      ]
     },
     "execution_count": 38,
     "metadata": {},
     "output_type": "execute_result"
    }
   ],
   "source": [
    "generate_text(model, tokenizer, init_sentence=\"<start> love\", max_len=20)"
   ]
  },
  {
   "cell_type": "code",
   "execution_count": 39,
   "id": "typical-forestry",
   "metadata": {},
   "outputs": [
    {
     "data": {
      "text/plain": [
       "'<start> that s what i m sayin <end> '"
      ]
     },
     "execution_count": 39,
     "metadata": {},
     "output_type": "execute_result"
    }
   ],
   "source": [
    "generate_text(model, tokenizer, init_sentence=\"<start> that\", max_len=20)"
   ]
  },
  {
   "cell_type": "code",
   "execution_count": 40,
   "id": "opponent-bathroom",
   "metadata": {},
   "outputs": [
    {
     "data": {
      "text/plain": [
       "'<start> to you and i <end> '"
      ]
     },
     "execution_count": 40,
     "metadata": {},
     "output_type": "execute_result"
    }
   ],
   "source": [
    "generate_text(model, tokenizer, init_sentence=\"<start> to you\", max_len=20)"
   ]
  },
  {
   "cell_type": "markdown",
   "id": "universal-thermal",
   "metadata": {},
   "source": [
    "### Step 8. 최종 평가\n",
    "- test_loss : 2.1504\n",
    "- 1epoch당 5~6분정도 소요되었고, 학습을 진행할 수록 loss률이 줄어드는 것을 확인 해볼 수 있었다.\n",
    "- 데이터 정제에 따라서 결과가 달라지는 것도 알 수 있었다.\n",
    "- 작문테스트: 전체적으로 자연스럼게 문장을 만들어 낸다. "
   ]
  },
  {
   "cell_type": "markdown",
   "id": "aboriginal-married",
   "metadata": {},
   "source": [
    "### Step 9. 정리\n",
    "데이터 정제에 따라서 loss값이 더 떨어질 것으로 예상이 되는데 데이터 정제에 대한 부분을 조금더 공부를 해야 겠다는 생각 했다.\n",
    "이번 노드를 하면서 인공지능으로 어디까지 만들 수 있을 까에 대한 궁금증이 생겼다. 단어를 입력하면 다음 제시 될 단어를 예측해 언어를 생성해낸 다는 것이 신기했다. 한편으로는 점점 인공지능이 사람이 대신할 부분이 많아지고 있다는 것이 조금은 불안함을 느끼기도 했다. 이러한 인공지능을 앞으로 어떻게 씌이냐도 중요할 것 같다는 생각을 하게 되었다. 코드를 어떻게 작성해야되는지 어떻게 쓰이는지 조금더 공부를 해야될 것 같다.\n"
   ]
  }
 ],
 "metadata": {
  "kernelspec": {
   "display_name": "Python 3",
   "language": "python",
   "name": "python3"
  },
  "language_info": {
   "codemirror_mode": {
    "name": "ipython",
    "version": 3
   },
   "file_extension": ".py",
   "mimetype": "text/x-python",
   "name": "python",
   "nbconvert_exporter": "python",
   "pygments_lexer": "ipython3",
   "version": "3.7.9"
  }
 },
 "nbformat": 4,
 "nbformat_minor": 5
}
